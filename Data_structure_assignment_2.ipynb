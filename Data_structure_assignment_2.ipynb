{
  "nbformat": 4,
  "nbformat_minor": 0,
  "metadata": {
    "colab": {
      "provenance": []
    },
    "kernelspec": {
      "name": "python3",
      "display_name": "Python 3"
    },
    "language_info": {
      "name": "python"
    }
  },
  "cells": [
    {
      "cell_type": "markdown",
      "source": [
        "THEORY QUESTION"
      ],
      "metadata": {
        "id": "E_qn2VcdAcGN"
      }
    },
    {
      "cell_type": "markdown",
      "source": [
        "Q1: What are data structures, and why are they important?\n",
        " - Data stucrture are ways to organise and store data in a computer so that it can be used efficiently"
      ],
      "metadata": {
        "id": "oWlEpMY5Ah1G"
      }
    },
    {
      "cell_type": "markdown",
      "source": [
        "   Why are they important?\n"
      ],
      "metadata": {
        "id": "ffRutz-YB6k3"
      }
    },
    {
      "cell_type": "markdown",
      "metadata": {
        "id": "710129b5"
      },
      "source": [
        "Data structures are important because they:\n",
        "\n",
        "*   **Organize and store data efficiently:** Different data structures are optimized for different operations (like searching, inserting, or deleting data). Choosing the right one can significantly impact a program's performance.\n",
        "*   **Simplify complex problems:** By organizing data in a logical way, data structures make it easier to design and implement algorithms that solve complex problems.\n",
        "*   **Promote code reusability:** Standard data structures are well-understood and widely used, which allows developers to reuse code and avoid reinventing the wheel."
      ]
    },
    {
      "cell_type": "markdown",
      "source": [
        "Q2: Explain the difference between mutable and immutable data types with examples."
      ],
      "metadata": {
        "id": "kqaKo8iqEloi"
      }
    },
    {
      "cell_type": "markdown",
      "metadata": {
        "id": "b6484fd5"
      },
      "source": [
        "**Mutable vs. Immutable Data Types**\n",
        "\n",
        "Data types in programming can be classified as either mutable or immutable. The key difference lies in whether their values can be changed after they are created.\n",
        "\n",
        "*   **Mutable Data Types:** The value of a mutable object can be modified after it's created. When you change a mutable object, you are modifying the original object in memory.\n",
        "    *   Examples in Python: Lists, dictionaries, sets\n",
        "\n",
        "*   **Immutable Data Types:** The value of an immutable object cannot be changed after it's created. If you try to modify an immutable object, a new object is created with the new value, and the original object remains unchanged.\n",
        "    *   Examples in Python: Integers, floats, strings, tuples, booleans\n",
        "\n",
        "**Examples:**\n",
        "\n",
        "**Mutable (List):**"
      ]
    },
    {
      "cell_type": "code",
      "metadata": {
        "colab": {
          "base_uri": "https://localhost:8080/"
        },
        "id": "ff97dbe0",
        "outputId": "f2bfc49a-387d-473e-dc46-fb4aca2d719f"
      },
      "source": [
        "my_string = \"hello\"\n",
        "print(my_string) # Output: hello\n",
        "\n",
        "# This will raise a TypeError because strings are immutable\n",
        "# my_string[0] = \"H\"\n",
        "\n",
        "new_string = my_string.upper()\n",
        "print(my_string) # Output: hello - The original string was not modified\n",
        "print(new_string) # Output: HELLO - A new string was created"
      ],
      "execution_count": null,
      "outputs": [
        {
          "output_type": "stream",
          "name": "stdout",
          "text": [
            "hello\n",
            "hello\n",
            "HELLO\n"
          ]
        }
      ]
    },
    {
      "cell_type": "markdown",
      "source": [
        "Q3: What are the main differences between lists and tuples in Python?"
      ],
      "metadata": {
        "id": "nbc3B-pqFMnp"
      }
    },
    {
      "cell_type": "markdown",
      "metadata": {
        "id": "1a65c727"
      },
      "source": [
        "Q3: What are the main differences between lists and tuples in Python?\n",
        "\n",
        "The main differences between lists and tuples in Python are:\n",
        "\n",
        "*   **Mutability:** Lists are **mutable**, meaning you can change their elements after they are created. Tuples are **immutable**, meaning you cannot change their elements after they are created.\n",
        "*   **Syntax:** Lists are created using square brackets `[]`, while tuples are created using parentheses `()`.\n",
        "*   **Performance:** Tuples are generally faster than lists because of their immutable nature. Python can optimize operations on tuples.\n",
        "*   **Use Cases:** Lists are typically used for collections of items that might change during the program's execution (e.g., adding or removing elements). Tuples are often used for collections of related items where the order and values are not expected to change (e.g., coordinates, database records).\n",
        "\n",
        "**Examples:**\n",
        "\n",
        "**List (Mutable):**"
      ]
    },
    {
      "cell_type": "code",
      "metadata": {
        "colab": {
          "base_uri": "https://localhost:8080/"
        },
        "id": "6acddfa1",
        "outputId": "2c191d03-c9c2-4fcb-b445-e30ab6651771"
      },
      "source": [
        "my_list = [1, 2, 3]\n",
        "print(my_list)\n",
        "\n",
        "# Modify the list\n",
        "my_list[0] = 10\n",
        "my_list.append(4)\n",
        "print(my_list)"
      ],
      "execution_count": null,
      "outputs": [
        {
          "output_type": "stream",
          "name": "stdout",
          "text": [
            "[1, 2, 3]\n",
            "[10, 2, 3, 4]\n"
          ]
        }
      ]
    },
    {
      "cell_type": "markdown",
      "metadata": {
        "id": "d35318b6"
      },
      "source": [
        "**Tuple (Immutable):**"
      ]
    },
    {
      "cell_type": "code",
      "metadata": {
        "colab": {
          "base_uri": "https://localhost:8080/"
        },
        "id": "f9acfb3c",
        "outputId": "1babeae3-3fb4-46d9-a08c-aa7b5ad4d0c4"
      },
      "source": [
        "my_tuple = (1, 2, 3)\n",
        "print(my_tuple)\n",
        "\n",
        "# This will raise a TypeError because tuples are immutable\n",
        "# my_tuple[0] = 10\n",
        "\n",
        "# This will also raise a TypeError\n",
        "# my_tuple.append(4)\n",
        "\n",
        "# To \"modify\" a tuple, you need to create a new tuple\n",
        "new_tuple = my_tuple + (4,)\n",
        "print(new_tuple)"
      ],
      "execution_count": null,
      "outputs": [
        {
          "output_type": "stream",
          "name": "stdout",
          "text": [
            "(1, 2, 3)\n",
            "(1, 2, 3, 4)\n"
          ]
        }
      ]
    },
    {
      "cell_type": "markdown",
      "source": [
        "Q4:Describe how dictionaries store data?"
      ],
      "metadata": {
        "id": "7vkusaJSF7hz"
      }
    },
    {
      "cell_type": "markdown",
      "metadata": {
        "id": "598e558a"
      },
      "source": [
        "Q4: Describe how dictionaries store data.\n",
        "\n",
        "Dictionaries in Python store data as key-value pairs. Each key is unique and associated with a value. Think of it like a real-world dictionary where you look up a word (the key) to find its definition (the value).\n",
        "\n",
        "Here's how they work:\n",
        "\n",
        "*   **Keys:** Keys are used to access the values. They must be immutable data types (like strings, numbers, or tuples). You cannot use mutable types like lists or dictionaries as keys.\n",
        "*   **Values:** Values can be of any data type (mutable or immutable). They are the data associated with the keys.\n",
        "*   **Unordered (in older Python versions):** In Python versions prior to 3.7, dictionaries were unordered. The order in which you inserted key-value pairs was not guaranteed to be the order in which they were stored or retrieved.\n",
        "*   **Dynamic:** Dictionaries are dynamic, meaning you can add, remove, and modify key-value pairs after the dictionary is created.\n",
        "\n",
        "Here's an example:"
      ]
    },
    {
      "cell_type": "code",
      "metadata": {
        "colab": {
          "base_uri": "https://localhost:8080/"
        },
        "id": "5978a1c6",
        "outputId": "1c9f6068-44d3-4741-b9ce-d4aac5b1116b"
      },
      "source": [
        "my_dict = {\n",
        "    \"name\": \"Alice\",\n",
        "    \"age\": 30,\n",
        "    \"city\": \"New York\"\n",
        "}\n",
        "\n",
        "print(my_dict[\"name\"]) # Accessing a value using its key\n",
        "print(my_dict[\"age\"])\n",
        "\n",
        "my_dict[\"job\"] = \"Engineer\" # Adding a new key-value pair\n",
        "print(my_dict)\n",
        "\n",
        "del my_dict[\"city\"] # Removing a key-value pair\n",
        "print(my_dict)"
      ],
      "execution_count": null,
      "outputs": [
        {
          "output_type": "stream",
          "name": "stdout",
          "text": [
            "Alice\n",
            "30\n",
            "{'name': 'Alice', 'age': 30, 'city': 'New York', 'job': 'Engineer'}\n",
            "{'name': 'Alice', 'age': 30, 'job': 'Engineer'}\n"
          ]
        }
      ]
    },
    {
      "cell_type": "markdown",
      "source": [
        "Q5:Why might you use a set instead of a list in Python?"
      ],
      "metadata": {
        "id": "wfYqv3iNGt9G"
      }
    },
    {
      "cell_type": "markdown",
      "metadata": {
        "id": "a158cefa"
      },
      "source": [
        "Here are the main reasons you might use a set instead of a list in Python:\n",
        "\n",
        "*   **Uniqueness:** Sets automatically handle duplicate elements, ensuring each item is unique.\n",
        "*   **Fast Membership Testing:** Checking if an item is in a set is typically much faster than in a list.\n",
        "*   **Set Operations:** Sets provide efficient methods for mathematical set operations like union and intersection.\n",
        "*   **Order:** Sets are unordered, which can be an advantage if element order isn't important."
      ]
    },
    {
      "cell_type": "markdown",
      "metadata": {
        "id": "3c1ccf8c"
      },
      "source": [
        "Q6: What is a string in Python, and how is it different from a list?\n",
        "\n",
        "A **string** in Python is a sequence of characters used to represent text. Strings are immutable, meaning once they are created, their contents cannot be changed.\n",
        "\n",
        "A **list** in Python is an ordered collection of items. Lists are mutable, meaning you can change their elements (add, remove, or modify) after they are created. Lists can hold items of different data types.\n",
        "\n",
        "Here are the main differences:\n",
        "\n",
        "*   **Mutability:** Strings are **immutable**, while lists are **mutable**.\n",
        "*   **Data Type:** Strings store sequences of characters (text). Lists can store any type of data (numbers, strings, other lists, etc.).\n",
        "*   **Purpose:** Strings are primarily used for representing and manipulating text. Lists are used for storing collections of items that may need to be modified or ordered.\n",
        "*   **Syntax:** Strings are typically enclosed in single quotes (`''`), double quotes (`\"\"`), or triple quotes (`''' '''` or `\"\"\" \"\"\"`). Lists are enclosed in square brackets (`[]`).\n",
        "\n",
        "**Example:**"
      ]
    },
    {
      "cell_type": "markdown",
      "metadata": {
        "id": "45aa8992"
      },
      "source": [
        "Q7: How do tuples ensure data integrity in Python?\n",
        "\n",
        "Tuples ensure data integrity primarily through their **immutability**. Because tuples cannot be changed after they are created, you can be confident that the data within a tuple will remain the same throughout the program's execution. This is particularly useful in the following scenarios:\n",
        "\n",
        "*   **Passing data to functions:** When you pass a tuple to a function, you know that the function cannot accidentally modify the original tuple's contents. This prevents unintended side effects and makes your code more predictable.\n",
        "*   **Storing constant data:** Tuples are ideal for storing data that should not be changed, such as configuration settings, coordinates, or database records that represent a fixed set of values.\n",
        "*   **Using as dictionary keys:** Since dictionary keys must be immutable, tuples can be used as keys, while lists (which are mutable) cannot. This allows you to use a combination of values as a key while ensuring the key's integrity.\n",
        "\n",
        "In essence, the immutability of tuples provides a level of protection against accidental data modification, helping to maintain the integrity of the data they hold."
      ]
    },
    {
      "cell_type": "markdown",
      "metadata": {
        "id": "d40a3c0b"
      },
      "source": [
        "Q8: What is a hash table, and how does it relate to dictionaries in Python?\n",
        "\n",
        "A **hash table** is a data structure that maps keys to values using a **hash function**.\n",
        "\n",
        "Here's how it relates to dictionaries in Python:\n",
        "\n",
        "*   **Underlying Implementation:** Python dictionaries are implemented using hash tables.\n",
        "*   **Fast Lookups:** Hash tables make dictionary lookups (accessing a value using its key) very fast.\n",
        "*   **Key Requirements:** Keys in a dictionary must be **hashable** (immutable), as required by hash tables.\n",
        "\n",
        "In summary, Python dictionaries are built on hash tables, explaining their efficiency and key requirements."
      ]
    },
    {
      "cell_type": "markdown",
      "metadata": {
        "id": "2b719b1f"
      },
      "source": [
        "Q9: Can lists contain different data types in Python?\n",
        "\n",
        "Yes, lists in Python are very flexible and can contain elements of different data types. You can have integers, floats, strings, booleans, other lists, dictionaries, tuples, and even objects within the same list.\n",
        "\n",
        "This is one of the key differences between Python lists and arrays in some other programming languages, which often require all elements to be of the same data type.\n",
        "\n",
        "Here's an example:"
      ]
    },
    {
      "cell_type": "markdown",
      "source": [
        "Q10: Explain why strings are immutable in Python?"
      ],
      "metadata": {
        "id": "XzHlZdnVWumi"
      }
    },
    {
      "cell_type": "markdown",
      "metadata": {
        "id": "5b8c16f1"
      },
      "source": [
        "Strings are immutable in Python because, once created, the sequence of characters that makes up the string cannot be changed. Any operation that appears to modify a string, such as concatenation or replacement, actually results in the creation of a new string object with the desired changes. The original string remains unchanged in memory.\n",
        "\n",
        "This immutability offers several advantages:\n",
        "\n",
        "*   **Efficiency:** Python can make certain internal optimizations knowing that strings won't change.\n",
        "*   **Thread Safety:** Immutable objects can be safely shared across multiple threads without concerns about simultaneous modification.\n",
        "*   **Hashability:** Because strings are immutable, they are hashable, which means they can be used as keys in dictionaries and elements in sets. Mutable objects like lists cannot be used as dictionary keys because their hash value could change."
      ]
    },
    {
      "cell_type": "markdown",
      "source": [],
      "metadata": {
        "id": "zKa-6SLIXxif"
      }
    },
    {
      "cell_type": "markdown",
      "metadata": {
        "id": "9047f704"
      },
      "source": [
        "Q11: What advantages do dictionaries offer over lists for certain tasks?\n",
        "\n",
        "Dictionaries offer advantages over lists when you need to quickly access data using a specific key or when the order of items doesn't matter.\n",
        "\n",
        "*   **Fast Lookups:** Dictionaries use hash tables for very fast data retrieval (near constant time on average) using keys, unlike lists which require searching.\n",
        "*   **Key-Value Association:** They are excellent for storing data as key-value pairs, making it easy to associate and retrieve information based on descriptive keys (e.g., a person's name and age). Lists store data in an ordered sequence, which is less intuitive for linked data.\n",
        "*   **Flexible Access:** You can access values directly by their descriptive keys, making code more readable than using numerical indices with lists."
      ]
    },
    {
      "cell_type": "markdown",
      "metadata": {
        "id": "d4a5c4b8"
      },
      "source": [
        "Q12: Describe a scenario where using a tuple would be preferable over a list.\n",
        "\n",
        "A scenario where using a tuple would be preferable over a list is when you have a collection of related items that should not change. Because tuples are immutable, they provide a guarantee that the data will remain constant.\n",
        "\n",
        "**Scenario: Representing a Geographic Coordinate**\n",
        "\n",
        "Imagine you are working with geographic data and need to store the latitude and longitude of a location. A coordinate is a pair of values (latitude, longitude) that should typically remain fixed once defined.\n",
        "\n",
        "*   **Using a Tuple:** You could represent a coordinate as a tuple `(latitude, longitude)`."
      ]
    },
    {
      "cell_type": "code",
      "metadata": {
        "id": "7b3ae9e9"
      },
      "source": [
        "    coordinate_list = [34.0522, -118.2437]\n",
        "    # Later in the code, you might accidentally do:\n",
        "    # coordinate_list[0] = 99.99  # This changes the latitude"
      ],
      "execution_count": null,
      "outputs": []
    },
    {
      "cell_type": "markdown",
      "metadata": {
        "id": "0c3a7a0b"
      },
      "source": [
        "Q13: How do sets handle duplicate values in Python?\n",
        "\n",
        "Sets in Python are inherently designed to store only unique elements. When you add elements to a set, or create a set from an iterable that contains duplicates, the set automatically discards the duplicate values.\n",
        "\n",
        "Here's how it works:\n",
        "\n",
        "*   **Creation with Duplicates:** If you initialize a set with duplicate values, only one instance of each unique value will be stored in the set.\n",
        "*   **Adding Duplicates:** If you try to add an element to a set that is already present, the set will ignore the addition, and the set will remain unchanged. The `add()` method does not raise an error in this case.\n",
        "\n",
        "This behavior makes sets particularly useful when you need a collection of unique items and want to easily remove duplicates from a list or other iterable.\n",
        "\n",
        "**Example:**"
      ]
    },
    {
      "cell_type": "code",
      "metadata": {
        "colab": {
          "base_uri": "https://localhost:8080/"
        },
        "id": "3129b4ad",
        "outputId": "d662b9fa-e2b9-4936-f9bd-de52e9e51687"
      },
      "source": [
        "my_list_with_duplicates = [1, 2, 2, 3, 4, 4, 5]\n",
        "my_set_from_list = set(my_list_with_duplicates)\n",
        "print(f\"Set created from list with duplicates: {my_set_from_list}\")\n",
        "\n",
        "my_set = {1, 2, 3}\n",
        "print(f\"Initial set: {my_set}\")\n",
        "\n",
        "my_set.add(2) # Trying to add a duplicate\n",
        "print(f\"Set after adding a duplicate: {my_set}\")\n",
        "\n",
        "my_set.add(6) # Adding a new element\n",
        "print(f\"Set after adding a new element: {my_set}\")"
      ],
      "execution_count": null,
      "outputs": [
        {
          "output_type": "stream",
          "name": "stdout",
          "text": [
            "Set created from list with duplicates: {1, 2, 3, 4, 5}\n",
            "Initial set: {1, 2, 3}\n",
            "Set after adding a duplicate: {1, 2, 3}\n",
            "Set after adding a new element: {1, 2, 3, 6}\n"
          ]
        }
      ]
    },
    {
      "cell_type": "markdown",
      "metadata": {
        "id": "34540ce6"
      },
      "source": [
        "Q14: How does the “in” keyword work differently for lists and dictionaries?\n",
        "\n",
        "The `in` keyword is used for membership testing. Its behavior and efficiency differ for lists and dictionaries:\n",
        "\n",
        "*   **Lists:** Checks for the presence of an **element**. This typically involves a **linear search**, making it slower for large lists (O(n)).\n",
        "*   **Dictionaries:** Checks for the presence of a **key**. This uses **hash table lookups**, making it very fast (O(1) on average).\n",
        "\n",
        "**In summary:**\n",
        "\n",
        "| Feature         | Lists (`item in list`)               | Dictionaries (`key in dict`)        |\n",
        "| :-------------- | :----------------------------------- | :---------------------------------- |\n",
        "| **What is checked** | Presence of an element             | Presence of a **key**             |\n",
        "| **Efficiency** | Slower (O(n))                        | Faster (O(1) on average)            |"
      ]
    },
    {
      "cell_type": "markdown",
      "metadata": {
        "id": "23be2a03"
      },
      "source": [
        "Q15: Can you modify the elements of a tuple? Explain why or why not.\n",
        "\n",
        "No, you cannot modify the elements of a tuple after it has been created because tuples are **immutable** in Python.\n",
        "\n",
        "This means:\n",
        "\n",
        "*   You cannot add, remove, or change the values of elements within an existing tuple.\n",
        "*   Any operation that seems to modify a tuple actually creates a *new* tuple with the desired changes.\n",
        "\n",
        "The immutability of tuples helps ensure data integrity and allows them to be used as dictionary keys and set elements (as mutable objects are not hashable)."
      ]
    },
    {
      "cell_type": "markdown",
      "source": [
        "Q16: What is a nested dictionary, and give an example of its use case?"
      ],
      "metadata": {
        "id": "vi64WpKuZ4FE"
      }
    },
    {
      "cell_type": "markdown",
      "metadata": {
        "id": "33e7b989"
      },
      "source": [
        "A **nested dictionary** is a dictionary where the values are themselves dictionaries. This allows you to create hierarchical data structures.\n",
        "\n",
        "**Use Case:** Representing data with multiple levels of organization, such as information about multiple students, where each student has details like contact information or grades stored in sub-dictionaries.\n",
        "\n",
        "**Example:**\n",
        "\n",
        "Storing information about multiple students:"
      ]
    },
    {
      "cell_type": "markdown",
      "metadata": {
        "id": "eed353a5"
      },
      "source": [
        "Q17: Describe the time complexity of accessing elements in a dictionary.\n",
        "\n",
        "The time complexity of accessing elements (values) in a Python dictionary using their keys is, on average, **O(1)** (constant time).\n",
        "\n",
        "This is because dictionaries are implemented using hash tables. When you access a value with a key, Python uses the key's hash value to directly find the element's location, which is very fast regardless of the dictionary's size.\n",
        "\n",
        "In the worst case (due to hash collisions), it could be O(n), but this is rare due to Python's optimized implementation. This efficiency relies on the keys being hashable (immutable)."
      ]
    },
    {
      "cell_type": "markdown",
      "metadata": {
        "id": "4c67b42d"
      },
      "source": [
        "Q18: In what situations are lists preferred over dictionaries?\n",
        "\n",
        "Lists are generally preferred over dictionaries in situations where:\n",
        "\n",
        "*   **Order Matters:** Lists maintain the order of their elements.\n",
        "*   **You Need an Ordered Collection:** For simple ordered sequences without needing key-based access.\n",
        "*   **You Need to Access Elements by Index:** Lists allow efficient access by numerical index.\n",
        "*   **You Have Duplicate Items:** Lists can easily store duplicates.\n",
        "*   **You Need to Perform Operations Based on Position:** Operations like slicing or iterating sequentially are natural for lists.\n",
        "\n",
        "In essence, use a list when the order and position of elements are important, and you need a collection that can include duplicates and be accessed by index."
      ]
    },
    {
      "cell_type": "markdown",
      "metadata": {
        "id": "b67ea921"
      },
      "source": [
        "Q19: Why are dictionaries considered unordered, and how does that affect data retrieval?\n",
        "\n",
        "In **older versions of Python (before 3.7)**, dictionaries were considered unordered because the order of elements was not guaranteed to be the same as the insertion order. This meant you couldn't rely on position for data retrieval or iteration.\n",
        "\n",
        "In **Python 3.7 and later**, dictionaries are **ordered by insertion**. The order in which you add items is preserved.\n",
        "\n",
        "However, the primary way to retrieve data is still by **key** (O(1) on average), not by numerical index. So, while the order is predictable now, you still access elements based on their key rather than their position like in a list."
      ]
    },
    {
      "cell_type": "markdown",
      "metadata": {
        "id": "8cc6d511"
      },
      "source": [
        "Q20:Explain the difference between a list and a dictionary in terms of data retrieval.\n",
        "\n",
        "The main difference between lists and dictionaries in terms of data retrieval is how you access the data and the efficiency of that access.\n",
        "\n",
        "*   **Lists:** Access data using their **numerical index** (position). Accessing by index is typically O(1). Searching for a specific *value* requires a linear search, which is O(n).\n",
        "*   **Dictionaries:** Access data using their associated **keys**. Accessing by key is very fast, O(1) on average, due to hash tables. Checking if a *key* exists is also O(1) on average. Searching for a specific *value* requires iterating through values, which is O(n).\n",
        "\n",
        "**In summary:**\n",
        "\n",
        "| Feature         | Lists                     | Dictionaries                  |\n",
        "| :-------------- | :------------------------ | :---------------------------- |\n",
        "| **Access Method** | Numerical Index           | Key                           |\n",
        "| **Access Efficiency (by index/key)** | O(1) (Constant Time)      | O(1) (Constant Time on average) |\n",
        "| **Searching for Element/Value** | O(n) (Linear Search)      | O(n) (Iterating through values) |\n",
        "| **Searching for Key** | Not applicable (elements) | O(1) (Constant Time on average) |\n",
        "\n",
        "Choose a list for ordered, index-based access. Choose a dictionary for key-based access and associating data."
      ]
    },
    {
      "cell_type": "markdown",
      "source": [
        "PRACTICAL QUESTION"
      ],
      "metadata": {
        "id": "ZCRjTRuydSPE"
      }
    },
    {
      "cell_type": "code",
      "source": [
        "#1 Write a code to create a string with your name and print it"
      ],
      "metadata": {
        "id": "KictLipedbJz"
      },
      "execution_count": null,
      "outputs": []
    },
    {
      "cell_type": "code",
      "metadata": {
        "colab": {
          "base_uri": "https://localhost:8080/"
        },
        "id": "162f0ccc",
        "outputId": "e1864cd6-559d-4117-dcdc-3b4cb256bd1b"
      },
      "source": [
        "my_name = \"ATUL\"\n",
        "print(my_name)"
      ],
      "execution_count": null,
      "outputs": [
        {
          "output_type": "stream",
          "name": "stdout",
          "text": [
            "ATUL\n"
          ]
        }
      ]
    },
    {
      "cell_type": "code",
      "source": [
        "#2  Write a code to find the length of the string \"Hello World\"\n",
        "string_to_measure = \"Hello World\"\n",
        "string_length = len(string_to_measure)\n",
        "print(string_length)"
      ],
      "metadata": {
        "colab": {
          "base_uri": "https://localhost:8080/"
        },
        "id": "y7BHV-AHebhE",
        "outputId": "30a44374-d4ba-4aa3-d2cb-4687c42bdef6"
      },
      "execution_count": null,
      "outputs": [
        {
          "output_type": "stream",
          "name": "stdout",
          "text": [
            "11\n"
          ]
        }
      ]
    },
    {
      "cell_type": "code",
      "metadata": {
        "colab": {
          "base_uri": "https://localhost:8080/"
        },
        "id": "d1e5e9f1",
        "outputId": "38647f26-2b99-496d-be39-bc5611e07d2d"
      },
      "source": [
        "#3 Write a code to slice the first 3 characters from the string \"Python Programming\"\n",
        "my_string = \"Python Programming\"\n",
        "sliced_string = my_string[:3]\n",
        "print(sliced_string)"
      ],
      "execution_count": null,
      "outputs": [
        {
          "output_type": "stream",
          "name": "stdout",
          "text": [
            "Pyt\n"
          ]
        }
      ]
    },
    {
      "cell_type": "code",
      "metadata": {
        "colab": {
          "base_uri": "https://localhost:8080/"
        },
        "id": "04ced0c6",
        "outputId": "d5746e07-7ddc-4065-b387-74f99ddf19aa"
      },
      "source": [
        "#4 Write a code to convert the string \"hello\" to uppercase\n",
        "my_string = \"hello\"\n",
        "uppercase_string = my_string.upper()\n",
        "print(uppercase_string)"
      ],
      "execution_count": null,
      "outputs": [
        {
          "output_type": "stream",
          "name": "stdout",
          "text": [
            "HELLO\n"
          ]
        }
      ]
    },
    {
      "cell_type": "code",
      "metadata": {
        "colab": {
          "base_uri": "https://localhost:8080/"
        },
        "id": "d777b9ac",
        "outputId": "742a4b19-bdcc-48c8-839c-58d685c87168"
      },
      "source": [
        "#5 Write a code to replace the word \"apple\" with \"orange\" in the string \"I like apple\"\n",
        "my_string = \"I like apple\"\n",
        "new_string = my_string.replace(\"apple\", \"orange\")\n",
        "print(new_string)"
      ],
      "execution_count": null,
      "outputs": [
        {
          "output_type": "stream",
          "name": "stdout",
          "text": [
            "I like orange\n"
          ]
        }
      ]
    },
    {
      "cell_type": "code",
      "metadata": {
        "colab": {
          "base_uri": "https://localhost:8080/"
        },
        "id": "75d9ddf0",
        "outputId": "4a19ff1c-aa46-4fbe-aa09-643207df94eb"
      },
      "source": [
        "#6 Write a code to create a list with numbers 1 to 5 and print it\n",
        "my_list = [1, 2, 3, 4, 5]\n",
        "print(my_list)"
      ],
      "execution_count": null,
      "outputs": [
        {
          "output_type": "stream",
          "name": "stdout",
          "text": [
            "[1, 2, 3, 4, 5]\n"
          ]
        }
      ]
    },
    {
      "cell_type": "code",
      "metadata": {
        "colab": {
          "base_uri": "https://localhost:8080/"
        },
        "id": "f21cb799",
        "outputId": "89023c31-180b-4ccb-aade-d661a1b08ec0"
      },
      "source": [
        "#7 Write a code to append the number 10 to the list [1, 2, 3, 4]\n",
        "my_list = [1, 2, 3, 4]\n",
        "my_list.append(10)\n",
        "print(my_list)"
      ],
      "execution_count": null,
      "outputs": [
        {
          "output_type": "stream",
          "name": "stdout",
          "text": [
            "[1, 2, 3, 4, 10]\n"
          ]
        }
      ]
    },
    {
      "cell_type": "code",
      "metadata": {
        "colab": {
          "base_uri": "https://localhost:8080/"
        },
        "id": "6b9ecdad",
        "outputId": "66e8ee9b-1fc1-4e93-cecf-750eb6a5a2b9"
      },
      "source": [
        "#8 Write a code to remove the number 3 from the list [1, 2, 3, 4, 5]\n",
        "my_list = [1, 2, 3, 4, 5]\n",
        "my_list.remove(3)\n",
        "print(my_list)"
      ],
      "execution_count": null,
      "outputs": [
        {
          "output_type": "stream",
          "name": "stdout",
          "text": [
            "[1, 2, 4, 5]\n"
          ]
        }
      ]
    },
    {
      "cell_type": "code",
      "metadata": {
        "colab": {
          "base_uri": "https://localhost:8080/"
        },
        "id": "7812b297",
        "outputId": "29f424b2-b419-4f62-a476-79e099d1c1e2"
      },
      "source": [
        "#9 Write a code to access the second element in the list ['a', 'b', 'c', 'd']\n",
        "my_list = ['a', 'b', 'c', 'd']\n",
        "second_element = my_list[1]\n",
        "print(second_element)"
      ],
      "execution_count": null,
      "outputs": [
        {
          "output_type": "stream",
          "name": "stdout",
          "text": [
            "b\n"
          ]
        }
      ]
    },
    {
      "cell_type": "code",
      "metadata": {
        "colab": {
          "base_uri": "https://localhost:8080/"
        },
        "id": "5d65aa18",
        "outputId": "bb9a6822-1bba-4478-83e5-81418ebdc2e1"
      },
      "source": [
        "#10 Write a code to reverse the list [10, 20, 30, 40, 50]\n",
        "my_list = [10, 20, 30, 40, 50]\n",
        "my_list.reverse()\n",
        "print(my_list)"
      ],
      "execution_count": null,
      "outputs": [
        {
          "output_type": "stream",
          "name": "stdout",
          "text": [
            "[50, 40, 30, 20, 10]\n"
          ]
        }
      ]
    },
    {
      "cell_type": "code",
      "metadata": {
        "colab": {
          "base_uri": "https://localhost:8080/"
        },
        "id": "8707e0fb",
        "outputId": "9810267e-c557-4e1b-b355-b7b2465f2005"
      },
      "source": [
        "#11 Write a code to create a tuple with the elements 100, 200, 300 and print it.\n",
        "my_tuple = (100, 200, 300)\n",
        "print(my_tuple)"
      ],
      "execution_count": null,
      "outputs": [
        {
          "output_type": "stream",
          "name": "stdout",
          "text": [
            "(100, 200, 300)\n"
          ]
        }
      ]
    },
    {
      "cell_type": "code",
      "metadata": {
        "colab": {
          "base_uri": "https://localhost:8080/"
        },
        "id": "3d592024",
        "outputId": "b649f87b-fa77-4165-ea3b-40979041dc31"
      },
      "source": [
        "#12 Write a code to access the second-to-last element of the tuple ('red', 'green', 'blue', 'yellow').\n",
        "my_tuple = ('red', 'green', 'blue', 'yellow')\n",
        "second_to_last_element = my_tuple[-2]\n",
        "print(second_to_last_element)"
      ],
      "execution_count": null,
      "outputs": [
        {
          "output_type": "stream",
          "name": "stdout",
          "text": [
            "blue\n"
          ]
        }
      ]
    },
    {
      "cell_type": "code",
      "metadata": {
        "colab": {
          "base_uri": "https://localhost:8080/"
        },
        "id": "7b0df911",
        "outputId": "7d54ed6e-a1f1-4e84-83e3-67abf94b5782"
      },
      "source": [
        "#13 Write a code to find the minimum number in the tuple (10, 20, 5, 15).\n",
        "my_tuple = (10, 20, 5, 15)\n",
        "min_number = min(my_tuple)\n",
        "print(min_number)"
      ],
      "execution_count": null,
      "outputs": [
        {
          "output_type": "stream",
          "name": "stdout",
          "text": [
            "5\n"
          ]
        }
      ]
    },
    {
      "cell_type": "code",
      "metadata": {
        "colab": {
          "base_uri": "https://localhost:8080/"
        },
        "id": "cbbf2036",
        "outputId": "b44614bc-bf48-442e-fd44-97ce295e62be"
      },
      "source": [
        "#14 Write a code to find the index of the element \"cat\" in the tuple ('dog', 'cat', 'rabbit').\n",
        "my_tuple = ('dog', 'cat', 'rabbit')\n",
        "index_of_cat = my_tuple.index('cat')\n",
        "print(index_of_cat)"
      ],
      "execution_count": null,
      "outputs": [
        {
          "output_type": "stream",
          "name": "stdout",
          "text": [
            "1\n"
          ]
        }
      ]
    },
    {
      "cell_type": "code",
      "metadata": {
        "colab": {
          "base_uri": "https://localhost:8080/"
        },
        "id": "a445e072",
        "outputId": "c5a9f249-4ed4-4fe2-ca21-822c25918225"
      },
      "source": [
        "#15 Write a code to create a tuple containing three different fruits and check if \"kiwi\" is in it.\n",
        "fruits_tuple = ('apple', 'banana', 'orange')\n",
        "is_kiwi_in_tuple = \"kiwi\" in fruits_tuple\n",
        "print(is_kiwi_in_tuple)"
      ],
      "execution_count": null,
      "outputs": [
        {
          "output_type": "stream",
          "name": "stdout",
          "text": [
            "False\n"
          ]
        }
      ]
    },
    {
      "cell_type": "code",
      "metadata": {
        "colab": {
          "base_uri": "https://localhost:8080/"
        },
        "id": "2f32ac0e",
        "outputId": "2e208e77-abff-40c7-be2f-e0757c2985e0"
      },
      "source": [
        "#16 Write a code to create a set with the elements 'a', 'b', 'c' and print it\n",
        "my_set = {'a', 'b', 'c'}\n",
        "print(my_set)"
      ],
      "execution_count": null,
      "outputs": [
        {
          "output_type": "stream",
          "name": "stdout",
          "text": [
            "{'a', 'b', 'c'}\n"
          ]
        }
      ]
    },
    {
      "cell_type": "code",
      "metadata": {
        "colab": {
          "base_uri": "https://localhost:8080/"
        },
        "id": "7c288587",
        "outputId": "04da3c41-b3b7-46fb-edae-b889d5447db6"
      },
      "source": [
        "#17 Write a code to clear all elements from the set {1, 2, 3, 4, 5}.\n",
        "my_set = {1, 2, 3, 4, 5}\n",
        "my_set.clear()\n",
        "print(my_set)"
      ],
      "execution_count": null,
      "outputs": [
        {
          "output_type": "stream",
          "name": "stdout",
          "text": [
            "set()\n"
          ]
        }
      ]
    },
    {
      "cell_type": "code",
      "metadata": {
        "colab": {
          "base_uri": "https://localhost:8080/"
        },
        "id": "9e8cf7c9",
        "outputId": "559b120a-d8e8-4792-e453-a3efd645c97a"
      },
      "source": [
        "#18 Write a code to remove the element 4 from the set {1, 2, 3, 4}\n",
        "my_set = {1, 2, 3, 4}\n",
        "my_set.remove(4)\n",
        "print(my_set)"
      ],
      "execution_count": null,
      "outputs": [
        {
          "output_type": "stream",
          "name": "stdout",
          "text": [
            "{1, 2, 3}\n"
          ]
        }
      ]
    },
    {
      "cell_type": "code",
      "metadata": {
        "colab": {
          "base_uri": "https://localhost:8080/"
        },
        "id": "06fb6f1b",
        "outputId": "4f9786d2-71c6-4ca0-b0b6-6a8af5f8cdbe"
      },
      "source": [
        "#19 Write a code to find the union of two sets {1, 2, 3} and {3, 4, 5}\n",
        "set1 = {1, 2, 3}\n",
        "set2 = {3, 4, 5}\n",
        "union_set = set1.union(set2)\n",
        "print(union_set)"
      ],
      "execution_count": null,
      "outputs": [
        {
          "output_type": "stream",
          "name": "stdout",
          "text": [
            "{1, 2, 3, 4, 5}\n"
          ]
        }
      ]
    },
    {
      "cell_type": "code",
      "metadata": {
        "colab": {
          "base_uri": "https://localhost:8080/"
        },
        "id": "77ca5913",
        "outputId": "52bc7946-6f02-4c69-d45d-a31fd0048d83"
      },
      "source": [
        "#20 Write a code to find the intersection of two sets {1, 2, 3} and {2, 3, 4}\n",
        "set1 = {1, 2, 3}\n",
        "set2 = {2, 3, 4}\n",
        "intersection_set = set1.intersection(set2)\n",
        "print(intersection_set)"
      ],
      "execution_count": null,
      "outputs": [
        {
          "output_type": "stream",
          "name": "stdout",
          "text": [
            "{2, 3}\n"
          ]
        }
      ]
    },
    {
      "cell_type": "code",
      "metadata": {
        "colab": {
          "base_uri": "https://localhost:8080/"
        },
        "id": "65de6b5f",
        "outputId": "79f9768b-e2fd-41a9-80d6-303d1a940129"
      },
      "source": [
        "#21 Write a code to create a dictionary with the keys \"name\", \"age\", and \"city\", and print it\n",
        "my_dict = {\n",
        "    \"name\": \"Your Name\",\n",
        "    \"age\": None, # Replace with your age\n",
        "    \"city\": \"Your City\" # Replace with your city\n",
        "}\n",
        "print(my_dict)"
      ],
      "execution_count": null,
      "outputs": [
        {
          "output_type": "stream",
          "name": "stdout",
          "text": [
            "{'name': 'Your Name', 'age': None, 'city': 'Your City'}\n"
          ]
        }
      ]
    },
    {
      "cell_type": "code",
      "metadata": {
        "colab": {
          "base_uri": "https://localhost:8080/"
        },
        "id": "410a38be",
        "outputId": "020a17d3-1561-4fd3-f7e0-f4727f5d8894"
      },
      "source": [
        "#22 Write a code to add a new key-value pair \"country\": \"USA\" to the dictionary {'name': 'John', 'age': 25}.\n",
        "my_dict = {'name': 'John', 'age': 25}\n",
        "my_dict[\"country\"] = \"USA\"\n",
        "print(my_dict)"
      ],
      "execution_count": null,
      "outputs": [
        {
          "output_type": "stream",
          "name": "stdout",
          "text": [
            "{'name': 'John', 'age': 25, 'country': 'USA'}\n"
          ]
        }
      ]
    },
    {
      "cell_type": "code",
      "metadata": {
        "colab": {
          "base_uri": "https://localhost:8080/"
        },
        "id": "6bb2f2d0",
        "outputId": "9f26f436-72b3-4fc2-a2ac-e980dba5806b"
      },
      "source": [
        "#23 Write a code to access the value associated with the key \"name\" in the dictionary {'name': 'Alice', 'age': 30}.\n",
        "my_dict = {'name': 'Alice', 'age': 30}\n",
        "name_value = my_dict[\"name\"]\n",
        "print(name_value)"
      ],
      "execution_count": null,
      "outputs": [
        {
          "output_type": "stream",
          "name": "stdout",
          "text": [
            "Alice\n"
          ]
        }
      ]
    },
    {
      "cell_type": "code",
      "metadata": {
        "colab": {
          "base_uri": "https://localhost:8080/"
        },
        "id": "346632ac",
        "outputId": "dd4091cd-bccc-491f-d3f6-f782c82e161a"
      },
      "source": [
        "#24 Write a code to remove the key \"age\" from the dictionary {'name': 'Bob', 'age': 22, 'city': 'New York'}.\n",
        "my_dict = {'name': 'Bob', 'age': 22, 'city': 'New York'}\n",
        "del my_dict[\"age\"]\n",
        "print(my_dict)"
      ],
      "execution_count": null,
      "outputs": [
        {
          "output_type": "stream",
          "name": "stdout",
          "text": [
            "{'name': 'Bob', 'city': 'New York'}\n"
          ]
        }
      ]
    },
    {
      "cell_type": "code",
      "metadata": {
        "colab": {
          "base_uri": "https://localhost:8080/"
        },
        "id": "f1ee5519",
        "outputId": "6e94201a-2edf-47b8-c95a-e1258452a3ef"
      },
      "source": [
        "#25 Write a code to check if the key \"city\" exists in the dictionary {'name': 'Alice', 'city': 'Paris'}\n",
        "my_dict = {'name': 'Alice', 'city': 'Paris'}\n",
        "key_exists = \"city\" in my_dict\n",
        "print(key_exists)"
      ],
      "execution_count": null,
      "outputs": [
        {
          "output_type": "stream",
          "name": "stdout",
          "text": [
            "True\n"
          ]
        }
      ]
    },
    {
      "cell_type": "code",
      "metadata": {
        "colab": {
          "base_uri": "https://localhost:8080/"
        },
        "id": "5f0b4aab",
        "outputId": "3f2ea805-5751-4651-b6cc-27963b7078d3"
      },
      "source": [
        "#26 Write a code to create a list, a tuple, and a dictionary, and print them all.\n",
        "\n",
        "# Create a list\n",
        "my_list = [1, 2, 3, 4, 5]\n",
        "\n",
        "# Create a tuple\n",
        "my_tuple = (10, 20, 30)\n",
        "\n",
        "# Create a dictionary\n",
        "my_dictionary = {\"name\": \"Alice\", \"age\": 30, \"city\": \"New York\"}\n",
        "\n",
        "# Print all three data structures\n",
        "print(\"My List:\", my_list)\n",
        "print(\"My Tuple:\", my_tuple)\n",
        "print(\"My Dictionary:\", my_dictionary)"
      ],
      "execution_count": null,
      "outputs": [
        {
          "output_type": "stream",
          "name": "stdout",
          "text": [
            "My List: [1, 2, 3, 4, 5]\n",
            "My Tuple: (10, 20, 30)\n",
            "My Dictionary: {'name': 'Alice', 'age': 30, 'city': 'New York'}\n"
          ]
        }
      ]
    },
    {
      "cell_type": "code",
      "metadata": {
        "colab": {
          "base_uri": "https://localhost:8080/"
        },
        "id": "08907505",
        "outputId": "b64d071a-f2ba-408b-a650-9f61d5d3c566"
      },
      "source": [
        "#27 Write a code to create a list of 5 random numbers between 1 and 100, sort it in ascending order, and print the result.\n",
        "import random\n",
        "\n",
        "# Create a list of 5 random numbers between 1 and 100\n",
        "random_numbers = [random.randint(1, 100) for _ in range(5)]\n",
        "\n",
        "# Sort the list in ascending order\n",
        "random_numbers.sort()\n",
        "\n",
        "# Print the sorted list\n",
        "print(random_numbers)"
      ],
      "execution_count": null,
      "outputs": [
        {
          "output_type": "stream",
          "name": "stdout",
          "text": [
            "[1, 4, 11, 73, 83]\n"
          ]
        }
      ]
    },
    {
      "cell_type": "code",
      "metadata": {
        "colab": {
          "base_uri": "https://localhost:8080/"
        },
        "id": "1b7e1309",
        "outputId": "fcd5e9d5-e4c6-461f-b930-ef865019c9f0"
      },
      "source": [
        "#28 Write a code to create a list with strings and print the element at the third index\n",
        "my_string_list = [\"apple\", \"banana\", \"cherry\", \"date\", \"elderberry\"]\n",
        "\n",
        "# Access and print the element at the third index (which is the fourth element)\n",
        "element_at_third_index = my_string_list[3]\n",
        "print(element_at_third_index)"
      ],
      "execution_count": null,
      "outputs": [
        {
          "output_type": "stream",
          "name": "stdout",
          "text": [
            "date\n"
          ]
        }
      ]
    },
    {
      "cell_type": "code",
      "metadata": {
        "colab": {
          "base_uri": "https://localhost:8080/"
        },
        "id": "b1cfe2f8",
        "outputId": "e80e4eed-0696-4bd1-e58a-d45eaa834704"
      },
      "source": [
        "#29 Write a code to combine two dictionaries into one and print the result\n",
        "\n",
        "dict1 = {\"a\": 1, \"b\": 2}\n",
        "dict2 = {\"c\": 3, \"d\": 4}\n",
        "\n",
        "# Combine dict2 into dict1\n",
        "dict1.update(dict2)\n",
        "\n",
        "# Print the combined dictionary\n",
        "print(dict1)"
      ],
      "execution_count": null,
      "outputs": [
        {
          "output_type": "stream",
          "name": "stdout",
          "text": [
            "{'a': 1, 'b': 2, 'c': 3, 'd': 4}\n"
          ]
        }
      ]
    },
    {
      "cell_type": "code",
      "metadata": {
        "colab": {
          "base_uri": "https://localhost:8080/"
        },
        "id": "0dc2885d",
        "outputId": "58dffbd6-2255-4674-d57b-91bcfa2b6049"
      },
      "source": [
        "#30 Write a code to convert a list of strings into a set\n",
        "my_list_of_strings = [\"apple\", \"banana\", \"cherry\", \"apple\", \"date\", \"banana\"]\n",
        "\n",
        "# Convert the list to a set\n",
        "my_set_from_list = set(my_list_of_strings)\n",
        "\n",
        "# Print the resulting set\n",
        "print(my_set_from_list)"
      ],
      "execution_count": null,
      "outputs": [
        {
          "output_type": "stream",
          "name": "stdout",
          "text": [
            "{'cherry', 'date', 'apple', 'banana'}\n"
          ]
        }
      ]
    }
  ]
}